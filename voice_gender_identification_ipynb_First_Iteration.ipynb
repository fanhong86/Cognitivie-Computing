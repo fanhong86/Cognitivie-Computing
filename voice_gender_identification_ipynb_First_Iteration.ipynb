{
  "nbformat": 4,
  "nbformat_minor": 0,
  "metadata": {
    "colab": {
      "name": "voice_gender_identification.ipynb - First Iteration",
      "version": "0.3.2",
      "provenance": [],
      "collapsed_sections": [],
      "toc_visible": true
    },
    "kernelspec": {
      "name": "python3",
      "display_name": "Python 3"
    }
  },
  "cells": [
    {
      "metadata": {
        "id": "mch_3VAA7rBt",
        "colab_type": "code",
        "outputId": "80742a6c-322a-4247-caf4-4cf54aeba8de",
        "colab": {
          "base_uri": "https://localhost:8080/",
          "height": 153
        }
      },
      "cell_type": "code",
      "source": [
        "!pip install python_speech_features"
      ],
      "execution_count": 0,
      "outputs": [
        {
          "output_type": "stream",
          "text": [
            "Collecting python_speech_features\n",
            "  Downloading https://files.pythonhosted.org/packages/ff/d1/94c59e20a2631985fbd2124c45177abaa9e0a4eee8ba8a305aa26fc02a8e/python_speech_features-0.6.tar.gz\n",
            "Building wheels for collected packages: python-speech-features\n",
            "  Building wheel for python-speech-features (setup.py) ... \u001b[?25ldone\n",
            "\u001b[?25h  Stored in directory: /root/.cache/pip/wheels/3c/42/7c/f60e9d1b40015cd69b213ad90f7c18a9264cd745b9888134be\n",
            "Successfully built python-speech-features\n",
            "Installing collected packages: python-speech-features\n",
            "Successfully installed python-speech-features-0.6\n"
          ],
          "name": "stdout"
        }
      ]
    },
    {
      "metadata": {
        "id": "JjQ6b0dsMl2G",
        "colab_type": "text"
      },
      "cell_type": "markdown",
      "source": [
        "# For MALE Gender"
      ]
    },
    {
      "metadata": {
        "id": "-Ye5s7LP-sBq",
        "colab_type": "code",
        "colab": {}
      },
      "cell_type": "code",
      "source": [
        "import os\n",
        "import _pickle as cPickle\n",
        "import numpy as np\n",
        "from scipy.io.wavfile import read\n",
        "from sklearn.mixture import GaussianMixture\n",
        "import python_speech_features as mfcc\n",
        "from sklearn import preprocessing\n",
        "import warnings\n",
        "warnings.filterwarnings(\"ignore\")"
      ],
      "execution_count": 0,
      "outputs": []
    },
    {
      "metadata": {
        "id": "M8ERgtbs9uCd",
        "colab_type": "code",
        "colab": {}
      },
      "cell_type": "code",
      "source": [
        "import python_speech_features as mfcc # The following python code is a function to extract MFCC features from given audio.\n",
        "def get_MFCC(sr,audio):\n",
        "    features = mfcc.mfcc(audio, sr, 0.025, 0.01, 13, appendEnergy = False)\n",
        "    features = preprocessing.scale(features)\n",
        "    return features"
      ],
      "execution_count": 0,
      "outputs": []
    },
    {
      "metadata": {
        "id": "mBblI8T4_7Yc",
        "colab_type": "code",
        "outputId": "bbad4b3c-adb9-475d-ab6a-09217a18dd01",
        "colab": {
          "base_uri": "https://localhost:8080/",
          "height": 54
        }
      },
      "cell_type": "code",
      "source": [
        "#path to training data\n",
        "source   = \"pygender/train_data/youtube/male\"\n",
        "#path to save trained model\n",
        "dest     = \"pygender/\"\n",
        "files    = [os.path.join(source,f) for f in os.listdir(source) if\n",
        "             f.endswith('.wav')]\n",
        "features = np.asarray(());\n",
        "\n",
        "print(files)"
      ],
      "execution_count": 83,
      "outputs": [
        {
          "output_type": "stream",
          "text": [
            "['pygender/train_data/youtube/male/male1.wav', 'pygender/train_data/youtube/male/male5.wav', 'pygender/train_data/youtube/male/male3.wav', 'pygender/train_data/youtube/male/male2.wav', 'pygender/train_data/youtube/male/male4.wav']\n"
          ],
          "name": "stdout"
        }
      ]
    },
    {
      "metadata": {
        "id": "c1O-9glKBDk9",
        "colab_type": "code",
        "colab": {
          "base_uri": "https://localhost:8080/",
          "height": 51
        },
        "outputId": "c2f4df86-ca4b-4a5c-f3d8-7db5e866ff09"
      },
      "cell_type": "code",
      "source": [
        "for f in files:\n",
        "    \n",
        "    sr,audio = read(f)\n",
        "    vector   = get_MFCC(sr,audio)\n",
        "    if features.size == 0:\n",
        "        features = vector\n",
        "    else:\n",
        "        features = np.vstack((features, vector))\n",
        "        \n",
        "print(f)\n",
        " \n",
        "gmm = GaussianMixture(n_components = 8, max_iter = 200, covariance_type='diag',\n",
        "        n_init = 3)\n",
        "gmm.fit(features)\n",
        "picklefile = f.split(\"/\")[-2].split(\".wav\")[0]+\".gmm\"\n",
        "\n",
        "print(picklefile)\n",
        " \n"
      ],
      "execution_count": 84,
      "outputs": [
        {
          "output_type": "stream",
          "text": [
            "pygender/train_data/youtube/male/male4.wav\n",
            "male.gmm\n"
          ],
          "name": "stdout"
        }
      ]
    },
    {
      "metadata": {
        "id": "Bwvd49fBIeti",
        "colab_type": "code",
        "colab": {
          "base_uri": "https://localhost:8080/",
          "height": 34
        },
        "outputId": "15a4f090-39cf-4354-b9a0-a53c67ffdbf4"
      },
      "cell_type": "code",
      "source": [
        "# model saved as male.gmm\n",
        "cPickle.dump(gmm,open(dest + picklefile,'wb'))\n",
        "print('Modeling completed for gender:',picklefile.split(\".gmm)\")[0])\n"
      ],
      "execution_count": 87,
      "outputs": [
        {
          "output_type": "stream",
          "text": [
            "Modeling completed for gender: male.gmm\n"
          ],
          "name": "stdout"
        }
      ]
    },
    {
      "metadata": {
        "id": "23jYbrp_MrNi",
        "colab_type": "text"
      },
      "cell_type": "markdown",
      "source": [
        "# For FEMALE Gender"
      ]
    },
    {
      "metadata": {
        "id": "C31qkB-kMubM",
        "colab_type": "code",
        "colab": {}
      },
      "cell_type": "code",
      "source": [
        "import os\n",
        "import _pickle as cPickle\n",
        "import numpy as np\n",
        "from scipy.io.wavfile import read\n",
        "from sklearn.mixture import GaussianMixture\n",
        "import python_speech_features as mfcc\n",
        "from sklearn import preprocessing\n",
        "import warnings\n",
        "warnings.filterwarnings(\"ignore\")"
      ],
      "execution_count": 0,
      "outputs": []
    },
    {
      "metadata": {
        "id": "8cWKGu73MyAr",
        "colab_type": "code",
        "colab": {}
      },
      "cell_type": "code",
      "source": [
        "import python_speech_features as mfcc # The following python code is a function to extract MFCC features from given audio.\n",
        "def get_MFCC(sr,audio):\n",
        "    features = mfcc.mfcc(audio, sr, 0.025, 0.01, 13, appendEnergy = False)\n",
        "    features = preprocessing.scale(features)\n",
        "    return features"
      ],
      "execution_count": 0,
      "outputs": []
    },
    {
      "metadata": {
        "id": "FgcOaPxuM1Zd",
        "colab_type": "code",
        "colab": {
          "base_uri": "https://localhost:8080/",
          "height": 54
        },
        "outputId": "8a341e6b-1c04-4a25-b769-e148e20d853b"
      },
      "cell_type": "code",
      "source": [
        "#path to training data\n",
        "source   = \"pygender/train_data/youtube/female\"\n",
        "#path to save trained model\n",
        "dest     = \"pygender/\"\n",
        "files    = [os.path.join(source,f) for f in os.listdir(source) if\n",
        "             f.endswith('.wav')]\n",
        "features = np.asarray(());\n",
        "\n",
        "print(files)"
      ],
      "execution_count": 90,
      "outputs": [
        {
          "output_type": "stream",
          "text": [
            "['pygender/train_data/youtube/female/female4.wav', 'pygender/train_data/youtube/female/female3.wav', 'pygender/train_data/youtube/female/female5.wav', 'pygender/train_data/youtube/female/female2.wav', 'pygender/train_data/youtube/female/female1.wav']\n"
          ],
          "name": "stdout"
        }
      ]
    },
    {
      "metadata": {
        "id": "HubtZDeNM49S",
        "colab_type": "code",
        "colab": {
          "base_uri": "https://localhost:8080/",
          "height": 51
        },
        "outputId": "427914a1-d6c5-4468-c8e0-2860d890edec"
      },
      "cell_type": "code",
      "source": [
        "for f in files:\n",
        "    \n",
        "    sr,audio = read(f)\n",
        "    vector   = get_MFCC(sr,audio)\n",
        "    if features.size == 0:\n",
        "        features = vector\n",
        "    else:\n",
        "        features = np.vstack((features, vector))\n",
        "        \n",
        "print(f)\n",
        " \n",
        "gmm = GaussianMixture(n_components = 8, max_iter = 200, covariance_type='diag',\n",
        "        n_init = 3)\n",
        "gmm.fit(features)\n",
        "picklefile = f.split(\"/\")[-2].split(\".wav\")[0]+\".gmm\"\n",
        "\n",
        "print(picklefile)"
      ],
      "execution_count": 91,
      "outputs": [
        {
          "output_type": "stream",
          "text": [
            "pygender/train_data/youtube/female/female1.wav\n",
            "female.gmm\n"
          ],
          "name": "stdout"
        }
      ]
    },
    {
      "metadata": {
        "id": "e_xcRTbTM8eF",
        "colab_type": "code",
        "colab": {
          "base_uri": "https://localhost:8080/",
          "height": 34
        },
        "outputId": "728877c7-6d8d-4000-d027-0ab0462aee6e"
      },
      "cell_type": "code",
      "source": [
        "# model saved as male.gmm\n",
        "cPickle.dump(gmm,open(dest + picklefile,'wb'))\n",
        "print('Modeling completed for gender:',picklefile.split(\".gmm)\")[0])\n"
      ],
      "execution_count": 92,
      "outputs": [
        {
          "output_type": "stream",
          "text": [
            "Modeling completed for gender: female.gmm\n"
          ],
          "name": "stdout"
        }
      ]
    },
    {
      "metadata": {
        "id": "HaSyPEYcNAAG",
        "colab_type": "code",
        "colab": {}
      },
      "cell_type": "code",
      "source": [
        ""
      ],
      "execution_count": 0,
      "outputs": []
    },
    {
      "metadata": {
        "id": "0Cb2zKhpNCr7",
        "colab_type": "text"
      },
      "cell_type": "markdown",
      "source": [
        "# Gender Testing\n",
        "\n"
      ]
    },
    {
      "metadata": {
        "id": "MSYWKnI1NFRf",
        "colab_type": "code",
        "colab": {}
      },
      "cell_type": "code",
      "source": [
        "import os\n",
        "import _pickle as cPickle\n",
        "import numpy as np\n",
        "from scipy.io.wavfile import read\n",
        "from sklearn.mixture import GaussianMixture\n",
        "import python_speech_features as mfcc\n",
        "from sklearn import preprocessing\n",
        "import warnings\n",
        "warnings.filterwarnings(\"ignore\")"
      ],
      "execution_count": 0,
      "outputs": []
    },
    {
      "metadata": {
        "id": "KaIlUw1ANKCG",
        "colab_type": "code",
        "colab": {}
      },
      "cell_type": "code",
      "source": [
        "def get_MFCC(sr,audio):\n",
        "    features = mfcc.mfcc(audio,sr, 0.025, 0.01, 13,appendEnergy = False)\n",
        "    feat     = np.asarray(())\n",
        "    for i in range(features.shape[0]):\n",
        "        temp = features[i,:]\n",
        "        if np.isnan(np.min(temp)):\n",
        "            continue\n",
        "        else:\n",
        "            if feat.size == 0:\n",
        "                feat = temp\n",
        "            else:\n",
        "                feat = np.vstack((feat, temp))\n",
        "    features = feat;\n",
        "    features = preprocessing.scale(features)\n",
        "    return features"
      ],
      "execution_count": 0,
      "outputs": []
    },
    {
      "metadata": {
        "id": "gyMCTM3bNThA",
        "colab_type": "code",
        "colab": {
          "base_uri": "https://localhost:8080/",
          "height": 34
        },
        "outputId": "d142697a-fd4f-4c14-d741-9737c9bb163d"
      },
      "cell_type": "code",
      "source": [
        "#path to test data\n",
        "sourcepath = \"pygender/\"\n",
        "#path to saved models\n",
        "modelpath  = \"pygender/\"    \n",
        " \n",
        "gmm_files = [os.path.join(modelpath,fname) for fname in\n",
        "              os.listdir(modelpath) if fname.endswith('.gmm')]\n",
        "print(gmm_files)"
      ],
      "execution_count": 113,
      "outputs": [
        {
          "output_type": "stream",
          "text": [
            "['pygender/male.gmm', 'pygender/female.gmm']\n"
          ],
          "name": "stdout"
        }
      ]
    },
    {
      "metadata": {
        "id": "rJTnH4aWN6xQ",
        "colab_type": "code",
        "colab": {}
      },
      "cell_type": "code",
      "source": [
        "\n",
        "\n",
        "models    = [cPickle.load(open(fname,'rb')) for fname in gmm_files]"
      ],
      "execution_count": 0,
      "outputs": []
    },
    {
      "metadata": {
        "id": "g7KPIBv7OOU5",
        "colab_type": "code",
        "colab": {
          "base_uri": "https://localhost:8080/",
          "height": 34
        },
        "outputId": "4a6d3e7e-9e0e-4f60-fd42-f7b6d4dd7854"
      },
      "cell_type": "code",
      "source": [
        "genders   = [fname.split(\"/\")[-1].split(\".gmm\")[0] for fname\n",
        "              in gmm_files]\n",
        "files     = [os.path.join(sourcepath,f) for f in os.listdir(sourcepath)\n",
        "              if f.endswith(\".wav\")] \n",
        "print(files)"
      ],
      "execution_count": 115,
      "outputs": [
        {
          "output_type": "stream",
          "text": [
            "['pygender/computer_two_hours.wav', 'pygender/computer_messages.wav', 'pygender/appeal_2_humanity.wav']\n"
          ],
          "name": "stdout"
        }
      ]
    },
    {
      "metadata": {
        "id": "SdARePhlPYwA",
        "colab_type": "code",
        "colab": {
          "base_uri": "https://localhost:8080/",
          "height": 238
        },
        "outputId": "f484b013-58de-4367-dd9c-8353304e358c"
      },
      "cell_type": "code",
      "source": [
        "for f in files:\n",
        "    print(f.split(\"\\\\\")[-1])\n",
        "    sr, audio  = read(f)\n",
        "    features   = get_MFCC(sr,audio)\n",
        "    scores     = None\n",
        "    log_likelihood = np.zeros(len(models))\n",
        "    for i in range(len(models)):\n",
        "        gmm    = models[i]         #checking with each model one by one\n",
        "        scores = np.array(gmm.score(features))\n",
        "        log_likelihood[i] = scores.sum()\n",
        "    winner = np.argmax(log_likelihood)\n",
        "    print(\"\\tdetected as - \", genders[winner],\"\\n\\tscores:female \",log_likelihood[0],\",male \", log_likelihood[1],\"\\n\")\n"
      ],
      "execution_count": 116,
      "outputs": [
        {
          "output_type": "stream",
          "text": [
            "WARNING:root:frame length (551) is greater than FFT size (512), frame will be truncated. Increase NFFT to avoid.\n"
          ],
          "name": "stderr"
        },
        {
          "output_type": "stream",
          "text": [
            "pygender/computer_two_hours.wav\n",
            "\tdetected as -  female \n",
            "\tscores:female  -19.545430239066043 ,male  -18.51087908537549 \n",
            "\n",
            "pygender/computer_messages.wav\n",
            "\tdetected as -  female \n",
            "\tscores:female  -20.438728129480452 ,male  -19.6587751975247 \n",
            "\n",
            "pygender/appeal_2_humanity.wav\n",
            "\tdetected as -  male \n",
            "\tscores:female  -18.104503936001667 ,male  -18.59609014074158 \n",
            "\n"
          ],
          "name": "stdout"
        }
      ]
    },
    {
      "metadata": {
        "id": "BC0Za0rkPd9g",
        "colab_type": "code",
        "colab": {}
      },
      "cell_type": "code",
      "source": [
        ""
      ],
      "execution_count": 0,
      "outputs": []
    }
  ]
}